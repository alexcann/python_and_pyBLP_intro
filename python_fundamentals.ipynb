{
 "cells": [
  {
   "cell_type": "markdown",
   "id": "2642b7a1-1f1b-44b9-9873-edc0e327d5d6",
   "metadata": {},
   "source": [
    "# Python: Fundamentals [![Open In Colab](https://colab.research.google.com/assets/colab-badge.svg)](https://colab.research.google.com/github/alexcann/python_and_pyBLP_intro/blob/master/python_fundamentals.ipynb)\n",
    "---\n",
    "---\n",
    "\n",
    "## Structure\n",
    "\n",
    "0. Why Python?\n",
    "1. Getting Started\n",
    "2. Jupyter Notebooks\n",
    "3. Fundamentals\n"
   ]
  },
  {
   "cell_type": "markdown",
   "id": "4e2e23dc-08f7-4d22-9b07-955b4611c1c3",
   "metadata": {},
   "source": [
    "---\n",
    "---\n",
    "## 1. Getting Started\n",
    "More: https://wiki.python.org/moin/BeginnersGuide\n",
    "\n",
    "\n",
    "0. Download Anaconda from (https://www.anaconda.com/products/individual). \n",
    "1. Open the Anaconda Navigator and create a virtual environment (https://docs.anaconda.com/anaconda/navigator/getting-started/).\n",
    "2. Open \"Anaconda Navigator> Home\" and install (jupyter notebook - jupyter lab - cmd.exe Prompt).\n",
    "3. Open \"Anaconda Navigator> Home> Jupyter Lab\" and get started.\n",
    "\n",
    "Online Alternative: Use google colab (https://colab.research.google.com/)\n"
   ]
  },
  {
   "cell_type": "markdown",
   "id": "fa0509f2-cd2f-4f67-93fc-438f762185c5",
   "metadata": {},
   "source": [
    "---\n",
    "## 2. Jupyter Notebooks \n",
    "More Info: https://jupyter.org/\n",
    "\n",
    "* Jupyter notebooks are structured around cells.\n",
    "* Cells are (by default) for code but can be transformed to markdown cells (https://www.markdownguide.org/basic-syntax/)\n",
    "* Some useful shortcuts (https://coderefinery.github.io/jupyter/02-interface/):\n",
    "    * \"m\" - Transform to markdown\n",
    "    * \"esc+a\" - New cell above\n",
    "    * \"esc+b\" - New cell below\n",
    "    * \"tab\" - autocompletion\n",
    "    * \"shift+tab\" - inline documentation\n",
    "* Cell magic - Commands specific Notebooks (%-inline, %%-whole cell) (https://ipython.readthedocs.io/en/stable/interactive/magics.html):\n",
    "    * %who_ls - Returns the variables in memory.\n",
    "    * %matplotlib inline - Plots are shown in the cell - output.\n",
    "    * %%latex - you can write latex in the cell. (dollar signs for single statements)\n",
    "    * %%sytem - run the cell in the console. (shortcut !!)\n",
    "\n",
    "    "
   ]
  },
  {
   "cell_type": "code",
   "execution_count": null,
   "id": "99eddb18-3e3e-4beb-80cc-3f2e2146c74b",
   "metadata": {
    "tags": []
   },
   "outputs": [],
   "source": [
    "%%system \n",
    "conda env list"
   ]
  },
  {
   "cell_type": "code",
   "execution_count": null,
   "id": "97199460-9e25-4d37-8e84-db5f77b1c522",
   "metadata": {
    "tags": []
   },
   "outputs": [],
   "source": [
    "foo = 12 \n",
    "%who_ls"
   ]
  },
  {
   "cell_type": "markdown",
   "id": "360b0a07-3ec1-4c4f-ab9d-ed3aed582a8a",
   "metadata": {},
   "source": [
    "---\n",
    "---\n",
    "## 3. Python Fundamentals"
   ]
  },
  {
   "cell_type": "markdown",
   "id": "ee38643c-3fc4-4b4f-8e82-17ef5840d7bb",
   "metadata": {
    "tags": []
   },
   "source": [
    "### 3.1 Objects"
   ]
  },
  {
   "cell_type": "markdown",
   "id": "9c6c6354-a793-43f7-8be9-1646488aa9a8",
   "metadata": {},
   "source": [
    "**Numbers**"
   ]
  },
  {
   "cell_type": "code",
   "execution_count": null,
   "id": "cbf5b3b0-7ed7-4b2f-b9a5-09a21dae4625",
   "metadata": {},
   "outputs": [],
   "source": [
    "# numbers \n",
    "foo = 2.5\n",
    "\n",
    "# powers\n",
    "foo_sq = foo**2  # square of 2.5\n",
    "\n",
    "# some method (objects come w/ properties - e.g. length - and methods - e.g. sum)\n",
    "foo.is_integer()  # check wether a number is an integers \n",
    "foo.__ceil__()  # returns the next lower integer"
   ]
  },
  {
   "cell_type": "code",
   "execution_count": null,
   "id": "63f05d61-ba36-43d1-9b68-115c3d8a170c",
   "metadata": {},
   "outputs": [],
   "source": [
    "# try out area "
   ]
  },
  {
   "cell_type": "markdown",
   "id": "a9c29f35-6fab-4f8a-ad7d-910e3122258f",
   "metadata": {},
   "source": [
    "#### Strings"
   ]
  },
  {
   "cell_type": "code",
   "execution_count": null,
   "id": "4be66f5c-b47c-4682-896d-9dba0a8ef3e3",
   "metadata": {},
   "outputs": [],
   "source": [
    "# strings\n",
    "bar = 'hello'\n",
    "\n",
    "# indexing-strings! the first element is indexed by 0 \n",
    "bar[0]  # returns 'h'\n",
    "bar[-1]  # returns 'o'\n",
    "bar[0:2]  # retruns 'he' !! bar[2] IS NOT INCLUDED !!\n",
    "bar[2]  # returns 'l'\n",
    "bar[0::2]  # returns every 2nd element - 'h'+'l'+'o' !! FEQUENCY COMES LAST !!\n",
    "\n",
    "\n",
    "# some methods\n",
    "bar.islower()  # check whether a string only has lower case letters.\n",
    "bar.find('e')  # find the position of e in the string. - python starts counting at zero"
   ]
  },
  {
   "cell_type": "code",
   "execution_count": null,
   "id": "8305ab9e-a05c-44f3-b76c-7bcc54f8bcad",
   "metadata": {},
   "outputs": [],
   "source": [
    "# try out area"
   ]
  },
  {
   "cell_type": "markdown",
   "id": "390a7f6f-34d7-47de-9a59-e1d4611a8432",
   "metadata": {},
   "source": [
    "#### Lists"
   ]
  },
  {
   "cell_type": "code",
   "execution_count": null,
   "id": "48c536d5-3e56-4ecf-b12b-2f8658058f6a",
   "metadata": {},
   "outputs": [],
   "source": [
    "# lists\n",
    "list_example = [1, 12.23 ,21 , 'hello', 2, [1, 2, 3]] # everything can be in a list\n",
    "\n",
    "# double indexing \n",
    "\n",
    "# some methods\n",
    "list_example.append(2) # appends 2 to the list \n",
    "list_example.remove([1,2,3]) # the [1,2,3] element from the list\n",
    "\n",
    "# list comprehension (THE BEST FEATURE OF PYTHON)\n",
    "[x**2 for x in list_example if type(x)==int or type(x)==float] # returns [1, 149.5729, 441, 4] - the square of each numerical element in a list"
   ]
  },
  {
   "cell_type": "code",
   "execution_count": null,
   "id": "391333cd-d6f3-4512-9c5c-caeeffbd2de2",
   "metadata": {},
   "outputs": [],
   "source": [
    "# try out area"
   ]
  },
  {
   "cell_type": "markdown",
   "id": "e2609090-0d59-4e04-8f5b-f798abadcf01",
   "metadata": {},
   "source": [
    "#### Dictionaries"
   ]
  },
  {
   "cell_type": "code",
   "execution_count": null,
   "id": "2b98257b-9b08-48b8-9e19-eb83e34b71b7",
   "metadata": {},
   "outputs": [],
   "source": [
    "# dictionaries\n",
    "dict_example = {'foo': 'hello', 'bar': [1, 2, 3], 'buz': 'BLP is amazing'}\n",
    "\n",
    "# indexing\n",
    "dict_example['foo']  # retruns hello - INDEXING WITH NUMBERS DOES NOT WORK\n",
    "\n",
    "# some methods\n",
    "dict_example.keys()  # returns the keys of the dictionary ['foo', 'bar', 'buz']\n",
    "dict_example.values()  # returns the keys of the dictionary ['hello', [1, 2, 3], 'BLP is amazing']"
   ]
  },
  {
   "cell_type": "code",
   "execution_count": null,
   "id": "7b1f1b90-041b-45b9-b27f-a42d7fd69d20",
   "metadata": {},
   "outputs": [],
   "source": [
    "# try out area "
   ]
  },
  {
   "cell_type": "markdown",
   "id": "8dc5b080-1d10-4379-b99c-0f40c397bf9c",
   "metadata": {},
   "source": [
    "### 3.2 Loops and If-Else statements"
   ]
  },
  {
   "cell_type": "markdown",
   "id": "53346893-383f-42b7-91e6-a15cc6bd4381",
   "metadata": {},
   "source": [
    "#### Loops"
   ]
  },
  {
   "cell_type": "code",
   "execution_count": null,
   "id": "24aa7d8d-22eb-4e69-bb6a-85767398a266",
   "metadata": {},
   "outputs": [],
   "source": [
    "# For loop that generates a list of the first 10 fibonacci numbers\n",
    "fibonacci_list1 = [0,1]\n",
    "for i in range(20): # range(20) STARTS at 0 and ENDS with 19\n",
    "    fibonacci_list1.append(fibonacci_list1[i] + fibonacci_list1[i+1]) # appends the next fibonacci number to the list\n",
    "\n",
    "# While loop that generates a list of fibonacci numbers lower than 1000\n",
    "fibonacci_list2 = [0,1]\n",
    "fibonacci_element = 1\n",
    "i = 1 # initialize iterator\n",
    "while fibonacci_element < 1000: #check condition\n",
    "    fibonacci_list2.append(fibonacci_element) \n",
    "    fibonacci_element = fibonacci_list2[i] + fibonacci_list2[i+1] \n",
    "\n",
    "    i += 1 # add 1 to iterator (same as i = i+1)"
   ]
  },
  {
   "cell_type": "code",
   "execution_count": null,
   "id": "7362e4ec-1df7-4a6c-9363-291a835c13b4",
   "metadata": {},
   "outputs": [],
   "source": [
    "# try out area \n",
    "fibonacci_list2"
   ]
  },
  {
   "cell_type": "markdown",
   "id": "7d4c22fc-87d0-44a4-8dd4-0e60852fd57b",
   "metadata": {},
   "source": [
    "#### Logic"
   ]
  },
  {
   "cell_type": "code",
   "execution_count": null,
   "id": "f522d20a-fb84-497a-815a-b4a90d78c8ff",
   "metadata": {},
   "outputs": [],
   "source": [
    "# if-else statements\n",
    "a, b, c = 1, 2, 3\n",
    "if (a > b) or (b > c):   # THE PARANTHESIS ARE REQUIRED - or can be replaced by |\n",
    "    a += 1\n",
    "elif (a < b) and (c > b):  # elif combines else with an if statment - and can be replace by &\n",
    "    b += 1\n",
    "else:\n",
    "    c += 1"
   ]
  },
  {
   "cell_type": "code",
   "execution_count": null,
   "id": "ab6d5c54-8934-42bc-ae76-4da0c7afce9f",
   "metadata": {},
   "outputs": [],
   "source": [
    "# try out area"
   ]
  },
  {
   "cell_type": "markdown",
   "id": "df54eb43-e289-4615-81c4-0389f0c519c1",
   "metadata": {},
   "source": [
    "### 3.3 Functions and Classes"
   ]
  },
  {
   "cell_type": "markdown",
   "id": "99f43c5b-fed0-40cb-abd0-be7da6e802ec",
   "metadata": {},
   "source": [
    "#### Functions"
   ]
  },
  {
   "cell_type": "code",
   "execution_count": null,
   "id": "32f5b5c3-3d13-4422-b2a3-bc46dfa45a73",
   "metadata": {},
   "outputs": [],
   "source": [
    "# A function that returns a mean and variance of a list\n",
    "numerical_list = [1, 2, 3, 21, 2132, 4, 2 , 343, 2]\n",
    "\n",
    "def mean_and_variance(li):\n",
    "\n",
    "    list_mean = sum(li)/len(li)  # sum and len are functions in stock-python\n",
    "    li_sq = [x**2 for x in li]\n",
    "    list_variance = (len(li)/(len(li)-1))*(sum(li_sq)/len(li) - list_mean)\n",
    "    return list_mean, list_variance\n",
    "\n",
    "mean, variance = mean_and_variance(numerical_list)"
   ]
  },
  {
   "cell_type": "code",
   "execution_count": null,
   "id": "c06116c4-1fef-4b71-9d78-53028e28ceb1",
   "metadata": {},
   "outputs": [],
   "source": [
    "# try out area "
   ]
  },
  {
   "cell_type": "markdown",
   "id": "2cd766c3-83ec-41dc-9659-73a47104907a",
   "metadata": {},
   "source": [
    "#### Anonymus Functions"
   ]
  },
  {
   "cell_type": "code",
   "execution_count": null,
   "id": "743b1019-7a30-424e-8b5b-bac573624a04",
   "metadata": {},
   "outputs": [],
   "source": [
    "mean = lambda li : sum(li)/len(li) # An anonxmus function that returns the mean of a list\n",
    "mean(numerical_list)"
   ]
  },
  {
   "cell_type": "code",
   "execution_count": null,
   "id": "ee75be0f-af25-4962-b544-d20d5f6dfa1a",
   "metadata": {},
   "outputs": [],
   "source": [
    "# try out area "
   ]
  },
  {
   "cell_type": "markdown",
   "id": "f780fd8c-daa8-4c2c-95ff-28a12bd8f448",
   "metadata": {},
   "source": [
    "#### Classes"
   ]
  },
  {
   "cell_type": "code",
   "execution_count": null,
   "id": "eba63b98-98e7-42e9-93f9-9de187a1a27d",
   "metadata": {},
   "outputs": [],
   "source": [
    "# A class that calculates the mean an variance of a list\n",
    "class MeanAndVariance:\n",
    "\n",
    "    # Specify what is needed to initialize the class (here the list)\n",
    "    def __init__(self, li):\n",
    "        self.li = li  # self stores something within the class which can later be used\n",
    "\n",
    "    # method that calculates the mean\n",
    "    def mean(self):\n",
    "        list_mean = sum(self.li)/len(self.li)\n",
    "        return list_mean\n",
    "\n",
    "    # method that calculates the (df-adjusted) variance\n",
    "    def variance(self, use_correct_variance: bool):\n",
    "        list_mean = self.mean()  # calculate the mean\n",
    "        li_sq = [x**2 for x in self.li]  # list of sqared values\n",
    "\n",
    "        if use_correct_variance:\n",
    "            list_variance = (len(self.li)/(len(self.li)-1))*(sum(li_sq)/len(self.li) - list_mean)\n",
    "        else:\n",
    "            list_variance = (sum(li_sq)/len(self.li) - list_mean)\n",
    "        return list_variance\n",
    "\n",
    "mean_and_var = MeanAndVariance(numerical_list)\n",
    "mean_and_var.variance(use_correct_variance = True)"
   ]
  },
  {
   "cell_type": "code",
   "execution_count": null,
   "id": "b0ed4e18-8596-41e8-9f56-91f911e00f9c",
   "metadata": {},
   "outputs": [],
   "source": [
    "# try out area\n",
    "mean_and_var = MeanAndVariance(numerical_list) \n",
    "mean_and_var.variance(use_correct_variance = True)"
   ]
  }
 ],
 "metadata": {
  "kernelspec": {
   "display_name": "Python (E8022_pyBLP_intro)",
   "language": "python",
   "name": "e8022_pyblp_introduction"
  },
  "language_info": {
   "codemirror_mode": {
    "name": "ipython",
    "version": 3
   },
   "file_extension": ".py",
   "mimetype": "text/x-python",
   "name": "python",
   "nbconvert_exporter": "python",
   "pygments_lexer": "ipython3",
   "version": "3.9.4"
  }
 },
 "nbformat": 4,
 "nbformat_minor": 5
}
